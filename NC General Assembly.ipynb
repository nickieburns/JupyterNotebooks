{
 "cells": [
  {
   "cell_type": "markdown",
   "metadata": {},
   "source": [
    "## Extracting Data from a CSV or XLSX file\n",
    "Data Cleaning and Comparisons in Python, by Nickie Burns"
   ]
  },
  {
   "cell_type": "code",
   "execution_count": 1,
   "metadata": {},
   "outputs": [],
   "source": [
    "import pandas as pd \n",
    "import numpy as np\n",
    "from difflib import SequenceMatcher           \n",
    "#pd.set_option('display.expand_frame_repr', False) \n",
    "pd.set_option('display.max_colwidth', -1)"
   ]
  },
  {
   "cell_type": "markdown",
   "metadata": {},
   "source": [
    "# 0. Definitions, Background, etc.\n",
    "* Using Python's Pandas library, datasets in various forms can be read in to form a Pandas Dataframe and then easily manipulated, cleaned, etc.\n",
    "* A Pandas dataframe is very similar to a table, like those in Excel or Word.\n",
    "* A row of a dataframe is a Pandas Series, which is like list with explicit indeces, and can easily be converted into a Python list."
   ]
  },
  {
   "cell_type": "code",
   "execution_count": 2,
   "metadata": {},
   "outputs": [],
   "source": [
    "regions_file = \"Counties and Regions.csv\" # uses pd.read_csv(filename)\n",
    "house_file = \"Representatives 4_22_2020.csv\" # uses pd.read_csv (filename)\n",
    "ia_ga_file = \"NC_Gen_Assembly 05_07_2020.xlsx\" # uses pd.read_excel(filename)\n",
    "senate_file = \"Senate 4_22_2020.csv\" # uses pd.read_csv(filename)"
   ]
  },
  {
   "cell_type": "markdown",
   "metadata": {},
   "source": [
    "# 1. NC County & Regions Data\n",
    "* Pandas Dataframe creation from csv\n",
    "* selecting column values based on other column values in same row\n",
    "* converting a Pandas Series into a list"
   ]
  },
  {
   "cell_type": "markdown",
   "metadata": {},
   "source": [
    "##### dataframe --> regions_df"
   ]
  },
  {
   "cell_type": "code",
   "execution_count": 3,
   "metadata": {},
   "outputs": [],
   "source": [
    "regions_df = pd.read_csv(regions_file)\n",
    "# regions_df"
   ]
  },
  {
   "cell_type": "code",
   "execution_count": 4,
   "metadata": {},
   "outputs": [
    {
     "name": "stdout",
     "output_type": "stream",
     "text": [
      "County:Wake\n"
     ]
    }
   ],
   "source": [
    "County = input(\"County:\")"
   ]
  },
  {
   "cell_type": "code",
   "execution_count": 5,
   "metadata": {},
   "outputs": [
    {
     "data": {
      "text/html": [
       "<div>\n",
       "<style scoped>\n",
       "    .dataframe tbody tr th:only-of-type {\n",
       "        vertical-align: middle;\n",
       "    }\n",
       "\n",
       "    .dataframe tbody tr th {\n",
       "        vertical-align: top;\n",
       "    }\n",
       "\n",
       "    .dataframe thead th {\n",
       "        text-align: right;\n",
       "    }\n",
       "</style>\n",
       "<table border=\"1\" class=\"dataframe\">\n",
       "  <thead>\n",
       "    <tr style=\"text-align: right;\">\n",
       "      <th></th>\n",
       "      <th>County</th>\n",
       "      <th>Region</th>\n",
       "    </tr>\n",
       "  </thead>\n",
       "  <tbody>\n",
       "    <tr>\n",
       "      <th>62</th>\n",
       "      <td>Wake</td>\n",
       "      <td>Triangle</td>\n",
       "    </tr>\n",
       "  </tbody>\n",
       "</table>\n",
       "</div>"
      ],
      "text/plain": [
       "   County    Region\n",
       "62  Wake   Triangle"
      ]
     },
     "execution_count": 5,
     "metadata": {},
     "output_type": "execute_result"
    }
   ],
   "source": [
    "region = regions_df[regions_df[\"County\"] == County]\n",
    "region"
   ]
  },
  {
   "cell_type": "markdown",
   "metadata": {},
   "source": [
    "##### county and regions lists --> nc_county & nc_region"
   ]
  },
  {
   "cell_type": "code",
   "execution_count": 6,
   "metadata": {},
   "outputs": [],
   "source": [
    "nc_county = regions_df['County'].tolist()\n",
    "nc_region = regions_df['Region'].tolist()"
   ]
  },
  {
   "cell_type": "code",
   "execution_count": 7,
   "metadata": {},
   "outputs": [],
   "source": [
    "#for c in nc_county: print(c)"
   ]
  },
  {
   "cell_type": "code",
   "execution_count": 8,
   "metadata": {},
   "outputs": [],
   "source": [
    "#for r in nc_region: print(r)"
   ]
  },
  {
   "cell_type": "markdown",
   "metadata": {},
   "source": [
    "# 2. SENATE DATA\n"
   ]
  },
  {
   "cell_type": "markdown",
   "metadata": {},
   "source": [
    "##### initial dataframe --> senate_df \n",
    "learn how to read in csv files that have at least one row that is longer than the length of the csv header row "
   ]
  },
  {
   "cell_type": "code",
   "execution_count": 9,
   "metadata": {},
   "outputs": [],
   "source": [
    "#### nc senate dataframe ####\n",
    "\n",
    "# fill the header row (names) of the dataframe because header row has to be the same size as the longest row\n",
    "header = ['Party', 'District', 'Member'] \n",
    "for i in range(5):\n",
    "    \n",
    "    # this loops to create header like: cty0, cty1, cty2 ...cty4 (0-4, so 5 columns total, i.e. range(5))\n",
    "    name = 'cty' + str(i)\n",
    "    header.append(name)\n",
    "    \n",
    "# skip over the first row - which was the original row with skiprows=1\n",
    "senate_df = pd.read_csv(senate_file, skiprows=1, names=header)\n",
    "senate_df = senate_df.replace(np.nan, '', regex=True)\n",
    "#senate_df"
   ]
  },
  {
   "cell_type": "markdown",
   "metadata": {},
   "source": [
    "##### cleaned dataframe --> senate_df \n",
    "learn how to <br>(1) combine qualitative data of all rows in two columns to form a new column <br>(2) split qualitative data of all rows in one column into two or more columns <br>(3) filter data based on column values"
   ]
  },
  {
   "cell_type": "code",
   "execution_count": 10,
   "metadata": {},
   "outputs": [],
   "source": [
    "# official house members list\n",
    "s_member = senate_df[\"Member\"].tolist()\n",
    "\n",
    "# needed because some values of the counties column are suffixes\n",
    "s_county = senate_df['cty0'].tolist()\n",
    "\n",
    "# build suffixes list with nc county list\n",
    "s_suffix = list(cty for cty in s_county if cty not in nc_county)\n",
    "\n",
    "# filter out suffixes and concat with member\n",
    "num_rows = senate_df.shape[0]\n",
    "for i in range(num_rows):\n",
    "    if s_county[i] in s_suffix:\n",
    "        s_member[i] += s_county[i]\n",
    "        s_county[i] = \" \"\n",
    "        \n",
    "# replace original members column with cleaned members (use a different name here)\n",
    "senate_df.drop(['Member'], axis=1)\n",
    "senate_df['Members'] = s_member\n",
    "\n",
    "#split all non-name items from the member column into its own column 'Notes'\n",
    "senate_df[[\"Member\", \"Notes\", \"Notes1\"]] = senate_df.Members.apply(lambda x: pd.Series(str(x).split(\"(\")))\n",
    "\n",
    "# filter out all resigned and deceased members\n",
    "senate_df[\"cty\"] = s_county\n",
    "senate_df = senate_df[~senate_df[\"Notes1\"].str.contains(\"Resign\", na=False)]\n",
    "senate_df = senate_df[~senate_df[\"Notes\"].str.contains(\"Resign\", na=False)]\n",
    "senate_df = senate_df[~senate_df[\"Notes1\"].str.contains(\"Deceas\", na=False)]\n",
    "senate_df = senate_df[~senate_df[\"Notes\"].str.contains(\"Deceas\", na=False)]\n",
    "\n",
    "# reorder columns, and don't include cty0\n",
    "senate_df = senate_df[[\"Party\", \"District\", \"Member\", \"cty\", \"cty1\", \"cty2\", \"cty3\", \"cty4\", \"Notes\", \"Notes1\"]]\n",
    "senate_df = senate_df.replace(np.nan, '', regex=True)\n",
    "#senate_df"
   ]
  },
  {
   "cell_type": "markdown",
   "metadata": {},
   "source": [
    "##### senate members list --> s_members \n",
    "learn how to <br>(1) convert a pandas dataframe row, which is a Pandas Series, into a list <br>(2) Strip heading and trailing white space from the values of a list"
   ]
  },
  {
   "cell_type": "code",
   "execution_count": 11,
   "metadata": {},
   "outputs": [],
   "source": [
    "s_members_init = senate_df[\"Member\"].tolist()\n",
    "s_members = [m.strip() for m in s_members_init]\n",
    "#for m in s_members: print(m)"
   ]
  },
  {
   "cell_type": "markdown",
   "metadata": {},
   "source": [
    "# 3. HOUSE DATA"
   ]
  },
  {
   "cell_type": "markdown",
   "metadata": {},
   "source": [
    "##### initial dataframe --> house_df"
   ]
  },
  {
   "cell_type": "code",
   "execution_count": 12,
   "metadata": {},
   "outputs": [],
   "source": [
    "house_df = pd.read_csv(house_file)\n",
    "house_df = house_df.replace(np.nan, '', regex=True)\n",
    "#house_df"
   ]
  },
  {
   "cell_type": "markdown",
   "metadata": {},
   "source": [
    "##### cleaned dataframe --> house_df"
   ]
  },
  {
   "cell_type": "code",
   "execution_count": 13,
   "metadata": {},
   "outputs": [],
   "source": [
    "# official house members list\n",
    "h_member = house_df[\"Member\"].tolist()\n",
    "\n",
    "# needed because some values of the counties column are suffixes\n",
    "h_county = house_df['Counties Represented'].tolist()\n",
    "\n",
    "# build suffixes list with nc county list\n",
    "nc_county = regions_df[\"County\"].tolist()\n",
    "h_suffix = list(cty for cty in h_county if cty not in nc_county)\n",
    "\n",
    "# filter out suffixes and concat with member\n",
    "num_rows = house_df.shape[0]\n",
    "for i in range(num_rows):\n",
    "    if h_county[i] in h_suffix:\n",
    "        h_member[i] += h_county[i]\n",
    "        h_county[i] = \" \"\n",
    "\n",
    "# replace original members column with cleaned members (use a different name here)\n",
    "house_df.drop(['Member'], axis=1)\n",
    "house_df['Members'] = h_member\n",
    "\n",
    "# split all non-name items from the member column into its own column 'Notes'\n",
    "house_df[['Member','Notes']] = house_df.Members.apply( \n",
    "   lambda x: pd.Series(str(x).split(\"(\")))\n",
    "\n",
    "# replace original countries column with cleaned countries\n",
    "house_df['Counties'] = h_county\n",
    "house_df = house_df[~house_df[\"Notes\"].str.contains(\"Resign\", na=False)]\n",
    "house_df = house_df[~house_df[\"Notes\"].str.contains(\"Deceased\", na=False)]\n",
    "\n",
    "# reorder the columns\n",
    "house_df = house_df[[\"Party\", \"District\", \"Member\", \"Counties\", \"Unnamed: 4\", \"Unnamed: 5\", \"Unnamed: 6\", \"Unnamed: 7\", \"Unnamed: 8\", \"Notes\"]]\n",
    "\n",
    "# store the members column in a list\n",
    "h_members = house_df[\"Member\"].tolist()\n",
    "\n",
    "# un4 = house_df['Unnamed: 4'].tolist()\n",
    "# un5 = house_df['Unnamed: 5'].tolist()\n",
    "# un6 = house_df['Unnamed: 6'].tolist()\n",
    "# un7 = house_df['Unnamed: 7'].tolist()\n",
    "# un8 = house_df['Unnamed: 8'].tolist()\n",
    "house_df = house_df.replace(np.nan, '', regex=True)\n",
    "#house_df"
   ]
  },
  {
   "cell_type": "markdown",
   "metadata": {},
   "source": [
    "##### house members list --> h_members"
   ]
  },
  {
   "cell_type": "code",
   "execution_count": 14,
   "metadata": {},
   "outputs": [],
   "source": [
    "h_members_init = house_df[\"Member\"].tolist()\n",
    "h_members = [m.strip() for m in h_members_init]\n",
    "# for m in h_members: print(m)"
   ]
  },
  {
   "cell_type": "markdown",
   "metadata": {},
   "source": [
    "# 4. InterAction DATA"
   ]
  },
  {
   "cell_type": "markdown",
   "metadata": {},
   "source": [
    "##### initial dataframe --> ia_df "
   ]
  },
  {
   "cell_type": "code",
   "execution_count": 15,
   "metadata": {},
   "outputs": [],
   "source": [
    "ia_df = pd.read_excel(ia_ga_file)\n",
    "ia_df = ia_df.replace(np.nan, '', regex=True)\n",
    "#ia_df"
   ]
  },
  {
   "cell_type": "markdown",
   "metadata": {},
   "source": [
    "##### cleaned dataframe --> ia_df"
   ]
  },
  {
   "cell_type": "code",
   "execution_count": 16,
   "metadata": {},
   "outputs": [],
   "source": [
    "first = ia_df[\"Goes_By\"].tolist()\n",
    "middle = ia_df[\"Middle_Name\"].tolist()\n",
    "last = ia_df[\"Last_Name\"].tolist()\n",
    "suf = ia_df[\"Suffix\"].tolist()\n",
    "\n",
    "members = list()\n",
    "for i in range(len(first)):\n",
    "    if middle[i] != \"\":\n",
    "        member = first[i] + \" \" + middle[i] + \" \" + last[i]\n",
    "    else:\n",
    "        member = first[i] + \" \" + last[i]\n",
    "    if suf[i] != \"\":\n",
    "        member += \" \" + suf[i]\n",
    "    members.append(member)\n",
    "\n",
    "ia_df[\"Member\"] = members\n",
    "\n",
    "#ia_df"
   ]
  },
  {
   "cell_type": "markdown",
   "metadata": {},
   "source": [
    "##### IA senate & house member lists --> s_members_ia & h_members_ia"
   ]
  },
  {
   "cell_type": "code",
   "execution_count": 17,
   "metadata": {},
   "outputs": [],
   "source": [
    "h_df = ia_df[ia_df.Company_Name.str.contains('Rep')]\n",
    "s_df = ia_df[ia_df.Company_Name.str.contains('Sen')]\n",
    "\n",
    "h_df = h_df.replace(np.nan, '', regex=True)\n",
    "s_df = s_df.replace(np.nan, '', regex=True)\n",
    "\n",
    "h_members_ia = h_df[\"Member\"].tolist()\n",
    "s_members_ia = s_df[\"Member\"].tolist()"
   ]
  },
  {
   "cell_type": "code",
   "execution_count": 18,
   "metadata": {},
   "outputs": [],
   "source": [
    "# for m in s_members_ia: print(m)"
   ]
  },
  {
   "cell_type": "code",
   "execution_count": 19,
   "metadata": {},
   "outputs": [],
   "source": [
    "# for m in h_members_ia: print(m)"
   ]
  },
  {
   "cell_type": "markdown",
   "metadata": {},
   "source": [
    "# 5. FINAL COMPARISONS"
   ]
  },
  {
   "cell_type": "markdown",
   "metadata": {},
   "source": [
    "##### members"
   ]
  },
  {
   "cell_type": "code",
   "execution_count": 20,
   "metadata": {},
   "outputs": [],
   "source": [
    "# this dictionary pairs similar names \n",
    "\n",
    "def create_dicts_to_replace_member_values(list_ia, list_nc):\n",
    "    \n",
    "    add = [x for x in list_ia if x not in list_nc]\n",
    "    delete = [y for y in list_nc if y not in list_ia]\n",
    "\n",
    "    dictionary = dict()\n",
    "\n",
    "    for i in range(len(add)):\n",
    "        for d in delete:\n",
    "\n",
    "            # SequenceMatcher determines the similarity of two strings\n",
    "            if SequenceMatcher(None, add[i], d).ratio() > .6:\n",
    "\n",
    "                # which are stored here if they are similar \n",
    "                dictionary.update( { add[i] : d})\n",
    "\n",
    "    for i in range(len(delete)):\n",
    "        for a in add:\n",
    "\n",
    "            # SequenceMatcher determines the similarity of two strings\n",
    "            if SequenceMatcher(None, delete[i], a).ratio() > .6:\n",
    "\n",
    "                # which are stored here if they are similar\n",
    "                dictionary.update( { delete[i] : a})\n",
    "    \n",
    "    return add, delete, dictionary"
   ]
  },
  {
   "cell_type": "code",
   "execution_count": 21,
   "metadata": {},
   "outputs": [],
   "source": [
    "s_add, s_delete, s_dict = create_dicts_to_replace_member_values(s_members_ia, s_members)\n",
    "h_add, h_delete, h_dict = create_dicts_to_replace_member_values(h_members_ia, h_members)"
   ]
  },
  {
   "cell_type": "code",
   "execution_count": 22,
   "metadata": {},
   "outputs": [],
   "source": [
    "#s_dict"
   ]
  },
  {
   "cell_type": "code",
   "execution_count": 23,
   "metadata": {},
   "outputs": [],
   "source": [
    "#h_dict"
   ]
  },
  {
   "cell_type": "code",
   "execution_count": 24,
   "metadata": {},
   "outputs": [],
   "source": [
    "for s in s_delete:\n",
    "    if s not in s_dict:\n",
    "        print(\"Check whether Senator\", s, \"needs to be deleted from the IA General Assembly list\")\n",
    "        print (\" \")\n",
    "for s in s_add:\n",
    "    if s not in s_dict:\n",
    "        print(\"Check whether Senator\", s, \"needs to be added to the IA General Assembly list.\")\n",
    "        print(\" \")"
   ]
  },
  {
   "cell_type": "code",
   "execution_count": 25,
   "metadata": {},
   "outputs": [],
   "source": [
    "for h in h_delete:\n",
    "    if h not in h_dict:\n",
    "        print(\"Check whether Representative\", h, \"needs to be deleted from the IA General Assembly list\")\n",
    "        print (\" \")\n",
    "\n",
    "for h in h_add:\n",
    "    if h not in h_dict:\n",
    "        print(\"Check whether Representative\", h, \"needs to be added to the IA General Assembly list.\")\n",
    "        print(\" \")"
   ]
  },
  {
   "cell_type": "markdown",
   "metadata": {},
   "source": [
    "##### district & political party"
   ]
  },
  {
   "cell_type": "code",
   "execution_count": 26,
   "metadata": {},
   "outputs": [],
   "source": [
    "house_party_dist = house_df[[\"Member\", \"Party\", \"District\"]].reset_index(drop=True)\n",
    "senate_party_dist = senate_df[[\"Member\", \"Party\", \"District\"]].reset_index(drop=True)"
   ]
  },
  {
   "cell_type": "code",
   "execution_count": 27,
   "metadata": {},
   "outputs": [
    {
     "data": {
      "text/html": [
       "<div>\n",
       "<style scoped>\n",
       "    .dataframe tbody tr th:only-of-type {\n",
       "        vertical-align: middle;\n",
       "    }\n",
       "\n",
       "    .dataframe tbody tr th {\n",
       "        vertical-align: top;\n",
       "    }\n",
       "\n",
       "    .dataframe thead th {\n",
       "        text-align: right;\n",
       "    }\n",
       "</style>\n",
       "<table border=\"1\" class=\"dataframe\">\n",
       "  <thead>\n",
       "    <tr style=\"text-align: right;\">\n",
       "      <th></th>\n",
       "      <th>Member</th>\n",
       "      <th>Party</th>\n",
       "      <th>NC_House_District</th>\n",
       "    </tr>\n",
       "  </thead>\n",
       "  <tbody>\n",
       "    <tr>\n",
       "      <th>0</th>\n",
       "      <td>Jay Adams</td>\n",
       "      <td>R</td>\n",
       "      <td>96.0</td>\n",
       "    </tr>\n",
       "    <tr>\n",
       "      <th>1</th>\n",
       "      <td>Gale Adcock RN</td>\n",
       "      <td>D</td>\n",
       "      <td>41.0</td>\n",
       "    </tr>\n",
       "    <tr>\n",
       "      <th>2</th>\n",
       "      <td>John Ager</td>\n",
       "      <td>D</td>\n",
       "      <td>115.0</td>\n",
       "    </tr>\n",
       "    <tr>\n",
       "      <th>3</th>\n",
       "      <td>Kelly M. Alexander Jr.</td>\n",
       "      <td>D</td>\n",
       "      <td>107.0</td>\n",
       "    </tr>\n",
       "    <tr>\n",
       "      <th>4</th>\n",
       "      <td>Vernetta Alston</td>\n",
       "      <td>D</td>\n",
       "      <td>29.0</td>\n",
       "    </tr>\n",
       "    <tr>\n",
       "      <th>...</th>\n",
       "      <td>...</td>\n",
       "      <td>...</td>\n",
       "      <td>...</td>\n",
       "    </tr>\n",
       "    <tr>\n",
       "      <th>115</th>\n",
       "      <td>Donna McDowell White</td>\n",
       "      <td>R</td>\n",
       "      <td>26.0</td>\n",
       "    </tr>\n",
       "    <tr>\n",
       "      <th>116</th>\n",
       "      <td>Shelly Willingham</td>\n",
       "      <td>D</td>\n",
       "      <td>23.0</td>\n",
       "    </tr>\n",
       "    <tr>\n",
       "      <th>117</th>\n",
       "      <td>Michael H. Wray</td>\n",
       "      <td>D</td>\n",
       "      <td>27.0</td>\n",
       "    </tr>\n",
       "    <tr>\n",
       "      <th>118</th>\n",
       "      <td>Larry Yarborough</td>\n",
       "      <td>R</td>\n",
       "      <td>2.0</td>\n",
       "    </tr>\n",
       "    <tr>\n",
       "      <th>119</th>\n",
       "      <td>Lee Zachary</td>\n",
       "      <td>R</td>\n",
       "      <td>73.0</td>\n",
       "    </tr>\n",
       "  </tbody>\n",
       "</table>\n",
       "<p>120 rows × 3 columns</p>\n",
       "</div>"
      ],
      "text/plain": [
       "                     Member Party  NC_House_District\n",
       "0    Jay Adams               R     96.0             \n",
       "1    Gale Adcock RN          D     41.0             \n",
       "2    John Ager               D     115.0            \n",
       "3    Kelly M. Alexander Jr.  D     107.0            \n",
       "4    Vernetta Alston         D     29.0             \n",
       "..               ...        ..      ...             \n",
       "115  Donna McDowell White    R     26.0             \n",
       "116  Shelly Willingham       D     23.0             \n",
       "117  Michael H. Wray         D     27.0             \n",
       "118  Larry Yarborough        R     2.0              \n",
       "119  Lee Zachary             R     73.0             \n",
       "\n",
       "[120 rows x 3 columns]"
      ]
     },
     "execution_count": 27,
     "metadata": {},
     "output_type": "execute_result"
    }
   ],
   "source": [
    "h_party_dist_ia = h_df[[\"Member\", \"Party_Affiliation\", \"NC_House_District\"]].reset_index(drop=True)\n",
    "s_party_dist_ia = s_df[[\"Member\", \"Party_Affiliation\", \"NC_Senate_District\"]].reset_index(drop=True)\n",
    "\n",
    "parties = h_df[\"Party_Affiliation\"].tolist()\n",
    "length = len(parties)\n",
    "h_party_list = list()\n",
    "for i in range(length):\n",
    "    h_party_list.append(parties[i][0])\n",
    "h_party_dist_ia[\"Party\"] = h_party_list\n",
    "h_party_dist_ia = h_party_dist_ia[[\"Member\", \"Party\", \"NC_House_District\"]].reset_index(drop=True)\n",
    "h_party_dist_ia"
   ]
  },
  {
   "cell_type": "code",
   "execution_count": 28,
   "metadata": {},
   "outputs": [
    {
     "data": {
      "text/html": [
       "<div>\n",
       "<style scoped>\n",
       "    .dataframe tbody tr th:only-of-type {\n",
       "        vertical-align: middle;\n",
       "    }\n",
       "\n",
       "    .dataframe tbody tr th {\n",
       "        vertical-align: top;\n",
       "    }\n",
       "\n",
       "    .dataframe thead th {\n",
       "        text-align: right;\n",
       "    }\n",
       "</style>\n",
       "<table border=\"1\" class=\"dataframe\">\n",
       "  <thead>\n",
       "    <tr style=\"text-align: right;\">\n",
       "      <th></th>\n",
       "      <th>Member</th>\n",
       "      <th>Party</th>\n",
       "      <th>District</th>\n",
       "    </tr>\n",
       "  </thead>\n",
       "  <tbody>\n",
       "    <tr>\n",
       "      <th>0</th>\n",
       "      <td>Jay Adams</td>\n",
       "      <td>R</td>\n",
       "      <td>96</td>\n",
       "    </tr>\n",
       "    <tr>\n",
       "      <th>1</th>\n",
       "      <td>Gale Adcock</td>\n",
       "      <td>D</td>\n",
       "      <td>41</td>\n",
       "    </tr>\n",
       "    <tr>\n",
       "      <th>2</th>\n",
       "      <td>John Ager</td>\n",
       "      <td>D</td>\n",
       "      <td>115</td>\n",
       "    </tr>\n",
       "    <tr>\n",
       "      <th>3</th>\n",
       "      <td>Kelly M. Alexander Jr.</td>\n",
       "      <td>D</td>\n",
       "      <td>107</td>\n",
       "    </tr>\n",
       "    <tr>\n",
       "      <th>4</th>\n",
       "      <td>Vernetta Alston</td>\n",
       "      <td>D</td>\n",
       "      <td>29</td>\n",
       "    </tr>\n",
       "  </tbody>\n",
       "</table>\n",
       "</div>"
      ],
      "text/plain": [
       "                                     Member Party  District\n",
       "0  Jay Adams                                 R     96      \n",
       "1  Gale Adcock                               D     41      \n",
       "2  John Ager                                 D     115     \n",
       "3  Kelly M. Alexander Jr.                    D     107     \n",
       "4  Vernetta Alston                           D     29      "
      ]
     },
     "execution_count": 28,
     "metadata": {},
     "output_type": "execute_result"
    }
   ],
   "source": [
    "house_party_dist.head()"
   ]
  },
  {
   "cell_type": "code",
   "execution_count": 29,
   "metadata": {},
   "outputs": [
    {
     "data": {
      "text/html": [
       "<div>\n",
       "<style scoped>\n",
       "    .dataframe tbody tr th:only-of-type {\n",
       "        vertical-align: middle;\n",
       "    }\n",
       "\n",
       "    .dataframe tbody tr th {\n",
       "        vertical-align: top;\n",
       "    }\n",
       "\n",
       "    .dataframe thead th {\n",
       "        text-align: right;\n",
       "    }\n",
       "</style>\n",
       "<table border=\"1\" class=\"dataframe\">\n",
       "  <thead>\n",
       "    <tr style=\"text-align: right;\">\n",
       "      <th></th>\n",
       "      <th>Member</th>\n",
       "      <th>Party</th>\n",
       "      <th>NC_House_District</th>\n",
       "    </tr>\n",
       "  </thead>\n",
       "  <tbody>\n",
       "    <tr>\n",
       "      <th>0</th>\n",
       "      <td>Jay Adams</td>\n",
       "      <td>R</td>\n",
       "      <td>96.0</td>\n",
       "    </tr>\n",
       "    <tr>\n",
       "      <th>1</th>\n",
       "      <td>Gale Adcock RN</td>\n",
       "      <td>D</td>\n",
       "      <td>41.0</td>\n",
       "    </tr>\n",
       "    <tr>\n",
       "      <th>2</th>\n",
       "      <td>John Ager</td>\n",
       "      <td>D</td>\n",
       "      <td>115.0</td>\n",
       "    </tr>\n",
       "    <tr>\n",
       "      <th>3</th>\n",
       "      <td>Kelly M. Alexander Jr.</td>\n",
       "      <td>D</td>\n",
       "      <td>107.0</td>\n",
       "    </tr>\n",
       "    <tr>\n",
       "      <th>4</th>\n",
       "      <td>Vernetta Alston</td>\n",
       "      <td>D</td>\n",
       "      <td>29.0</td>\n",
       "    </tr>\n",
       "  </tbody>\n",
       "</table>\n",
       "</div>"
      ],
      "text/plain": [
       "                   Member Party  NC_House_District\n",
       "0  Jay Adams               R     96.0             \n",
       "1  Gale Adcock RN          D     41.0             \n",
       "2  John Ager               D     115.0            \n",
       "3  Kelly M. Alexander Jr.  D     107.0            \n",
       "4  Vernetta Alston         D     29.0             "
      ]
     },
     "execution_count": 29,
     "metadata": {},
     "output_type": "execute_result"
    }
   ],
   "source": [
    "h_party_dist_ia.head()"
   ]
  },
  {
   "cell_type": "code",
   "execution_count": 30,
   "metadata": {},
   "outputs": [],
   "source": [
    "h_party_dist_ia['political party correct?'] = np.where(house_party_dist['Party'] == h_party_dist_ia['Party'], 'True', 'False')\n",
    "h_party_dist_ia['district party correct?'] = np.where(house_party_dist['District'] == h_party_dist_ia['NC_House_District'], 'True', 'False')"
   ]
  },
  {
   "cell_type": "code",
   "execution_count": 31,
   "metadata": {},
   "outputs": [
    {
     "data": {
      "text/html": [
       "<div>\n",
       "<style scoped>\n",
       "    .dataframe tbody tr th:only-of-type {\n",
       "        vertical-align: middle;\n",
       "    }\n",
       "\n",
       "    .dataframe tbody tr th {\n",
       "        vertical-align: top;\n",
       "    }\n",
       "\n",
       "    .dataframe thead th {\n",
       "        text-align: right;\n",
       "    }\n",
       "</style>\n",
       "<table border=\"1\" class=\"dataframe\">\n",
       "  <thead>\n",
       "    <tr style=\"text-align: right;\">\n",
       "      <th></th>\n",
       "      <th>Member</th>\n",
       "      <th>Party</th>\n",
       "      <th>NC_House_District</th>\n",
       "      <th>political party correct?</th>\n",
       "      <th>district party correct?</th>\n",
       "    </tr>\n",
       "  </thead>\n",
       "  <tbody>\n",
       "    <tr>\n",
       "      <th>0</th>\n",
       "      <td>Jay Adams</td>\n",
       "      <td>R</td>\n",
       "      <td>96.0</td>\n",
       "      <td>True</td>\n",
       "      <td>True</td>\n",
       "    </tr>\n",
       "    <tr>\n",
       "      <th>1</th>\n",
       "      <td>Gale Adcock RN</td>\n",
       "      <td>D</td>\n",
       "      <td>41.0</td>\n",
       "      <td>True</td>\n",
       "      <td>True</td>\n",
       "    </tr>\n",
       "    <tr>\n",
       "      <th>2</th>\n",
       "      <td>John Ager</td>\n",
       "      <td>D</td>\n",
       "      <td>115.0</td>\n",
       "      <td>True</td>\n",
       "      <td>True</td>\n",
       "    </tr>\n",
       "    <tr>\n",
       "      <th>3</th>\n",
       "      <td>Kelly M. Alexander Jr.</td>\n",
       "      <td>D</td>\n",
       "      <td>107.0</td>\n",
       "      <td>True</td>\n",
       "      <td>True</td>\n",
       "    </tr>\n",
       "    <tr>\n",
       "      <th>4</th>\n",
       "      <td>Vernetta Alston</td>\n",
       "      <td>D</td>\n",
       "      <td>29.0</td>\n",
       "      <td>True</td>\n",
       "      <td>True</td>\n",
       "    </tr>\n",
       "    <tr>\n",
       "      <th>...</th>\n",
       "      <td>...</td>\n",
       "      <td>...</td>\n",
       "      <td>...</td>\n",
       "      <td>...</td>\n",
       "      <td>...</td>\n",
       "    </tr>\n",
       "    <tr>\n",
       "      <th>115</th>\n",
       "      <td>Donna McDowell White</td>\n",
       "      <td>R</td>\n",
       "      <td>26.0</td>\n",
       "      <td>True</td>\n",
       "      <td>True</td>\n",
       "    </tr>\n",
       "    <tr>\n",
       "      <th>116</th>\n",
       "      <td>Shelly Willingham</td>\n",
       "      <td>D</td>\n",
       "      <td>23.0</td>\n",
       "      <td>True</td>\n",
       "      <td>True</td>\n",
       "    </tr>\n",
       "    <tr>\n",
       "      <th>117</th>\n",
       "      <td>Michael H. Wray</td>\n",
       "      <td>D</td>\n",
       "      <td>27.0</td>\n",
       "      <td>True</td>\n",
       "      <td>True</td>\n",
       "    </tr>\n",
       "    <tr>\n",
       "      <th>118</th>\n",
       "      <td>Larry Yarborough</td>\n",
       "      <td>R</td>\n",
       "      <td>2.0</td>\n",
       "      <td>True</td>\n",
       "      <td>True</td>\n",
       "    </tr>\n",
       "    <tr>\n",
       "      <th>119</th>\n",
       "      <td>Lee Zachary</td>\n",
       "      <td>R</td>\n",
       "      <td>73.0</td>\n",
       "      <td>True</td>\n",
       "      <td>True</td>\n",
       "    </tr>\n",
       "  </tbody>\n",
       "</table>\n",
       "<p>120 rows × 5 columns</p>\n",
       "</div>"
      ],
      "text/plain": [
       "                     Member Party  NC_House_District political party correct?  \\\n",
       "0    Jay Adams               R     96.0               True                      \n",
       "1    Gale Adcock RN          D     41.0               True                      \n",
       "2    John Ager               D     115.0              True                      \n",
       "3    Kelly M. Alexander Jr.  D     107.0              True                      \n",
       "4    Vernetta Alston         D     29.0               True                      \n",
       "..               ...        ..      ...                ...                      \n",
       "115  Donna McDowell White    R     26.0               True                      \n",
       "116  Shelly Willingham       D     23.0               True                      \n",
       "117  Michael H. Wray         D     27.0               True                      \n",
       "118  Larry Yarborough        R     2.0                True                      \n",
       "119  Lee Zachary             R     73.0               True                      \n",
       "\n",
       "    district party correct?  \n",
       "0    True                    \n",
       "1    True                    \n",
       "2    True                    \n",
       "3    True                    \n",
       "4    True                    \n",
       "..    ...                    \n",
       "115  True                    \n",
       "116  True                    \n",
       "117  True                    \n",
       "118  True                    \n",
       "119  True                    \n",
       "\n",
       "[120 rows x 5 columns]"
      ]
     },
     "execution_count": 31,
     "metadata": {},
     "output_type": "execute_result"
    }
   ],
   "source": [
    "h_party_dist_ia"
   ]
  },
  {
   "cell_type": "code",
   "execution_count": 32,
   "metadata": {},
   "outputs": [
    {
     "data": {
      "text/html": [
       "<div>\n",
       "<style scoped>\n",
       "    .dataframe tbody tr th:only-of-type {\n",
       "        vertical-align: middle;\n",
       "    }\n",
       "\n",
       "    .dataframe tbody tr th {\n",
       "        vertical-align: top;\n",
       "    }\n",
       "\n",
       "    .dataframe thead th {\n",
       "        text-align: right;\n",
       "    }\n",
       "</style>\n",
       "<table border=\"1\" class=\"dataframe\">\n",
       "  <thead>\n",
       "    <tr style=\"text-align: right;\">\n",
       "      <th></th>\n",
       "      <th>Member</th>\n",
       "      <th>Party</th>\n",
       "      <th>NC_House_District</th>\n",
       "      <th>political party correct?</th>\n",
       "      <th>district party correct?</th>\n",
       "    </tr>\n",
       "  </thead>\n",
       "  <tbody>\n",
       "  </tbody>\n",
       "</table>\n",
       "</div>"
      ],
      "text/plain": [
       "Empty DataFrame\n",
       "Columns: [Member, Party, NC_House_District, political party correct?, district party correct?]\n",
       "Index: []"
      ]
     },
     "execution_count": 32,
     "metadata": {},
     "output_type": "execute_result"
    }
   ],
   "source": [
    "h_party_dist_ia_fix = h_party_dist_ia[h_party_dist_ia['political party correct?'] == False]\n",
    "h_party_dist_ia_fix2 = h_party_dist_ia_fix[h_party_dist_ia_fix['district party correct?'] == False]\n",
    "h_party_dist_ia_fix"
   ]
  }
 ],
 "metadata": {
  "kernelspec": {
   "display_name": "Python 3",
   "language": "python",
   "name": "python3"
  },
  "language_info": {
   "codemirror_mode": {
    "name": "ipython",
    "version": 3
   },
   "file_extension": ".py",
   "mimetype": "text/x-python",
   "name": "python",
   "nbconvert_exporter": "python",
   "pygments_lexer": "ipython3",
   "version": "3.8.3"
  }
 },
 "nbformat": 4,
 "nbformat_minor": 2
}
